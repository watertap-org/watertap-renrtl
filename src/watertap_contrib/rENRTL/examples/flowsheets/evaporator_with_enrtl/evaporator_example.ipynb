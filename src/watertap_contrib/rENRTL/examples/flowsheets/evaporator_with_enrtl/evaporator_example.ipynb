{
 "cells": [
  {
   "cell_type": "markdown",
   "id": "cfcf71ca",
   "metadata": {},
   "source": [
    "# Evaporator Example for Water Separation"
   ]
  },
  {
   "cell_type": "markdown",
   "id": "41989efe",
   "metadata": {},
   "source": [
    "This notebook describes the `Evaporator` unit model from WaterTAP and how it is used to separate seawater into fresh water and a brine solution. This is possible when using the `Evaporator` unit since it allows the use of two different property packages, one for each phase in the system. For the vapor, the property package for pure water is used while for the feed and liquid outlet (brine) the property package for seawater is used."
   ]
  },
  {
   "cell_type": "markdown",
   "id": "39ecd67a",
   "metadata": {},
   "source": [
    "In this example, a given flow of seawater is fed to the `Evaporator` at given initial conditions and separated into a vapor and a liquid phase considering ideal and nonideal thermodynamic equilibrium conditions. Fresh water is separated as vapor at the top product in the evaporator, while a concentrated brine solution is separated as liquid phase at the bottom product in the evaporator unit. The seawater at the inlet is assumed to contain a fixed amount of total dissolved solids (TDS) in the water. "
   ]
  },
  {
   "cell_type": "markdown",
   "id": "41902835",
   "metadata": {},
   "source": [
    "This example is split into two parts. Part I documents the solution of the evaporator example assuming ideal equilibrium in the evaporator, i.e., \n",
    "\n",
    "$$ P = x_{\\rm H_2O} \\; P_{\\rm H_2O}^{\\rm sat} $$\n",
    "\n",
    "Part II documents how to use and solve the evaporator model assuming nonideal equilibrium, i.e., \n",
    "\n",
    "$$ P = x_{\\rm H_2O} \\; \\gamma_{\\rm H_2O} \\; P_{\\rm H_2O}^{\\rm sat} $$\n",
    "\n",
    "while implementing the electrolyte NRTL (eNRTL) model from IDAES to calculate the activity coefficients $\\gamma_i$ of solvent and solute(s). For this case study, we assume that the seawater has only a single solvent, $\\rm H_2O$, and a single electrolyte is dissolved in the solvent, $\\rm NaCl$, as shown in the equation below:\n",
    "\n",
    "$$ \\rm NaCl \\; \\; \\rightarrow \\; \\; \\rm Na^+ \\; \\; + \\; \\; \\rm Cl^- $$"
   ]
  },
  {
   "cell_type": "markdown",
   "id": "39df7ee3",
   "metadata": {},
   "source": [
    "References:\n",
    "\n",
    "[1] *Local Composition Model for Excess Gibbs Energy of Electrolyte Systems, Pt 1*. Chen, C.-C., Britt, H.I., Boston, J.F., Evans, L.B., AIChE Journal, 1982, Vol. 28(4), pgs. 588-596. \n",
    "\n",
    "[2] *Pilot demonstration of concentrated solar-poweered desalination of subsurface agricultural drainage water and other brackish groundwater sources.* Matthew D. Stuber, Christopher Sullivan, Spencer A. Kirk, Jennifer A. Farrand, Philip V. Schillai, Brian D. Fojtasek, and Aaron H. Mandell. Desalination, 355 (2015), 186-196."
   ]
  },
  {
   "cell_type": "markdown",
   "id": "9a719970",
   "metadata": {},
   "source": [
    "## Part I: Evaporator in an Ideal System"
   ]
  },
  {
   "cell_type": "markdown",
   "id": "85c646f0",
   "metadata": {},
   "source": [
    "To start the construction of the evaporator model, import all the Pyomo, IDAES, and WaterTAP libraries and packages needed in the model:"
   ]
  },
  {
   "cell_type": "code",
   "execution_count": 1,
   "id": "49d088c5",
   "metadata": {},
   "outputs": [],
   "source": [
    "import logging \n",
    "\n",
    "# Import Pyomo libraries\n",
    "import pyomo.environ as pyo\n",
    "from pyomo.environ import units as pyunits\n",
    "from pyomo.environ import (ConcreteModel, TransformationFactory, Block,\n",
    "                           Constraint, Objective, minimize,\n",
    "                           Param, value, Set, log, exp)\n",
    "\n",
    "# Import IDAES libraries\n",
    "import idaes.core.util.scaling as iscale\n",
    "import idaes.logger as idaeslog\n",
    "from idaes.core import FlowsheetBlock\n",
    "from idaes.models.properties.modular_properties.base.generic_property import GenericParameterBlock\n",
    "from idaes.core.solvers import get_solver\n",
    "from idaes.core.util.model_statistics import degrees_of_freedom\n",
    "from idaes.core.util.initialization import propagate_state\n",
    "\n",
    "# Import evaporator model from WaterTap\n",
    "from watertap.unit_models.mvc.components import Evaporator\n",
    "\n",
    "logging.getLogger(\"pyomo.repn.plugins.nl_writer\").setLevel(logging.ERROR)"
   ]
  },
  {
   "cell_type": "markdown",
   "id": "d6547b8f",
   "metadata": {},
   "source": [
    "Import the property packages for water and seawater to be used in the vapor and liquid outlets in the `Evaporator` unit."
   ]
  },
  {
   "cell_type": "code",
   "execution_count": 2,
   "id": "b1c33290",
   "metadata": {},
   "outputs": [],
   "source": [
    "# Import property packages from WaterTap\n",
    "import watertap.property_models.seawater_prop_pack as props_sw\n",
    "import watertap.property_models.water_prop_pack as props_w"
   ]
  },
  {
   "cell_type": "markdown",
   "id": "0aeed322",
   "metadata": {},
   "source": [
    "After importing all libraries and packages, create a Pyomo concrete model, flowsheet, and water and seawater property parameter blocks."
   ]
  },
  {
   "cell_type": "code",
   "execution_count": 3,
   "id": "3276a039",
   "metadata": {},
   "outputs": [],
   "source": [
    "m = ConcreteModel(\"Evaporator Model\")\n",
    "\n",
    "m.fs = FlowsheetBlock(dynamic=False)\n",
    "\n",
    "m.fs.properties_vapor = props_w.WaterParameterBlock()\n",
    "m.fs.properties_feed = props_sw.SeawaterParameterBlock()"
   ]
  },
  {
   "cell_type": "markdown",
   "id": "f8cc0cc7",
   "metadata": {},
   "source": [
    "Add a block to include the evaporator and variables needed to solve the evaporator under ideal thermodynamic assumptions. Inside the new block, add an `Evaporator` unit to the flowsheet with two property packages: one for the feed (liquid phase) and one for the top product (vapor phase)."
   ]
  },
  {
   "cell_type": "code",
   "execution_count": 4,
   "id": "0063165d",
   "metadata": {},
   "outputs": [],
   "source": [
    "m.fs.ideal = Block()\n",
    "\n",
    "m.fs.ideal.evaporator = Evaporator(property_package_feed=m.fs.properties_feed,\n",
    "                                   property_package_vapor=m.fs.properties_vapor)"
   ]
  },
  {
   "cell_type": "markdown",
   "id": "62ba9944",
   "metadata": {},
   "source": [
    "Deactivate the equality equilibrium constraint from the `Evaporator` unit and replace it with the new equilibrium equation. That is, \n",
    "$$ P=x_{\\rm H_2O} \\; \\gamma_{\\rm H_2O} \\; P_{\\rm H_2O}^{\\rm sat}$$\n",
    "\n",
    "Since we are considering an ideal equilibrium, $\\gamma_{\\rm H_2O}$ is equal to 1 and added to the model as a Pyomo parameter `Param`."
   ]
  },
  {
   "cell_type": "code",
   "execution_count": 5,
   "id": "a5a3d96c",
   "metadata": {},
   "outputs": [],
   "source": [
    "m.fs.ideal.act_coeff = pyo.Param(\n",
    "    initialize=1,\n",
    "    units=pyunits.dimensionless,\n",
    "    doc=\"Ideal activity coefficient for water\"\n",
    ")\n",
    "\n",
    "m.fs.ideal.evaporator.eq_brine_pressure.deactivate()\n",
    "@m.fs.ideal.Constraint(doc=\"Vapor-liquid equilibrium equation\")\n",
    "def _eq_ideal_phase_equilibrium(b):\n",
    "    return b.evaporator.properties_brine[0].pressure == (\n",
    "        m.fs.ideal.act_coeff*\n",
    "        b.evaporator.properties_brine[0].mole_frac_phase_comp[\"Liq\", \"H2O\"]*\n",
    "        b.evaporator.properties_vapor[0].pressure_sat\n",
    "    )"
   ]
  },
  {
   "cell_type": "markdown",
   "id": "256d835c",
   "metadata": {},
   "source": [
    "Add scaling factors for the properties and evaporator variables."
   ]
  },
  {
   "cell_type": "code",
   "execution_count": 6,
   "id": "c806ab95",
   "metadata": {},
   "outputs": [],
   "source": [
    "# Scaling factors for the property packages\n",
    "m.fs.properties_feed.set_default_scaling(\"flow_mass_phase_comp\", 1, index=(\"Liq\", \"H2O\"))\n",
    "m.fs.properties_feed.set_default_scaling(\"flow_mass_phase_comp\", 1e2, index=(\"Liq\", \"TDS\"))\n",
    "m.fs.properties_vapor.set_default_scaling(\"flow_mass_phase_comp\", 1, index=(\"Vap\", \"H2O\"))\n",
    "m.fs.properties_vapor.set_default_scaling(\"flow_mass_phase_comp\", 1, index=(\"Liq\", \"H2O\"))\n",
    "\n",
    "# Scaling factors for the evaporator\n",
    "iscale.set_scaling_factor(m.fs.ideal.evaporator.area, 1e-3)\n",
    "iscale.set_scaling_factor(m.fs.ideal.evaporator.U, 1e-3)\n",
    "iscale.set_scaling_factor(m.fs.ideal.evaporator.delta_temperature_in, 1e-1)\n",
    "iscale.set_scaling_factor(m.fs.ideal.evaporator.delta_temperature_out, 1e-1)\n",
    "iscale.set_scaling_factor(m.fs.ideal.evaporator.lmtd, 1e-1)\n",
    "iscale.set_scaling_factor(m.fs.ideal.evaporator.heat_transfer, 1e-6)\n",
    "\n",
    "# Calculate scaling factors\n",
    "iscale.calculate_scaling_factors(m)"
   ]
  },
  {
   "cell_type": "markdown",
   "id": "520e2a50",
   "metadata": {},
   "source": [
    "Fix the inputs in the model to solve a square problem (i.e., zero degrees of freedom) for initialization."
   ]
  },
  {
   "cell_type": "code",
   "execution_count": 7,
   "id": "e17a8965",
   "metadata": {},
   "outputs": [],
   "source": [
    "m.fs.ideal.evaporator.inlet_feed.flow_mass_phase_comp[0, \"Liq\", \"H2O\"].fix(9.65)\n",
    "m.fs.ideal.evaporator.inlet_feed.flow_mass_phase_comp[0, \"Liq\", \"TDS\"].fix(0.35)\n",
    "m.fs.ideal.evaporator.inlet_feed.temperature[0].fix(50.52 + 273.15)\n",
    "m.fs.ideal.evaporator.inlet_feed.pressure[0].fix(101325)\n",
    "m.fs.ideal.evaporator.outlet_brine.temperature[0].fix(60 + 273.15)\n",
    "m.fs.ideal.evaporator.U.fix(1e3)\n",
    "m.fs.ideal.evaporator.area.fix(400)\n",
    "m.fs.ideal.evaporator.delta_temperature_out.fix(5)\n",
    "m.fs.ideal.evaporator.delta_temperature_in.fix(30)"
   ]
  },
  {
   "cell_type": "markdown",
   "id": "07299a2b",
   "metadata": {},
   "source": [
    "Initialize the `Evaporator` unit and create a solver object to select `IPOPT` as the NLP solver. We include the `assert` keyword to check that we have a square problem followed by the solution of the initialization model."
   ]
  },
  {
   "cell_type": "code",
   "execution_count": 8,
   "id": "47e8c567",
   "metadata": {},
   "outputs": [
    {
     "name": "stdout",
     "output_type": "stream",
     "text": [
      "The initialization solver termination status is optimal\n"
     ]
    }
   ],
   "source": [
    "m.fs.ideal.evaporator.initialize(outlvl=idaeslog.WARNING)\n",
    "\n",
    "solver = get_solver('ipopt')\n",
    "assert degrees_of_freedom(m) == 0\n",
    "\n",
    "ideal_init_results = solver.solve(m, tee=False)\n",
    "\n",
    "print(\"The initialization solver termination status is {}\".format(ideal_init_results.solver.termination_condition))"
   ]
  },
  {
   "cell_type": "markdown",
   "id": "7adcfdc1",
   "metadata": {},
   "source": [
    "To solve the simulation example, we unfix some of the inputs that were fixed during initialization and fix the pressure in the evaporator chamber at the desired value of $30,000 \\; \\rm Pa$."
   ]
  },
  {
   "cell_type": "code",
   "execution_count": 9,
   "id": "aee98b91",
   "metadata": {},
   "outputs": [],
   "source": [
    "m.fs.ideal.evaporator.area.unfix()\n",
    "m.fs.ideal.evaporator.U.unfix()\n",
    "m.fs.ideal.evaporator.outlet_brine.temperature[0].unfix()\n",
    "m.fs.ideal.evaporator.outlet_brine.pressure[0].fix(30e3)"
   ]
  },
  {
   "cell_type": "markdown",
   "id": "5fb0239b",
   "metadata": {},
   "source": [
    "Since the overall heat transfer coefficient $\\rm U$ and area $\\rm A$ of evaporator are unfixed, we add a Pyomo `Expression` to calculate a a new term $\\rm UA$ that represents the product of both variables. To avoid moving from undesirable designs, we also add a lower and an upper bound for $\\rm U$ as constraints (reference [2])."
   ]
  },
  {
   "cell_type": "code",
   "execution_count": 10,
   "id": "d7ca5604",
   "metadata": {},
   "outputs": [],
   "source": [
    "@m.fs.ideal.Expression(doc=\"Overall heat trasfer coefficient and area term\")\n",
    "def UA_term(b):\n",
    "    return b.evaporator.area*b.evaporator.U\n",
    "\n",
    "@m.fs.ideal.Constraint(doc=\"Overall heat trasfer coefficient lower bound\")\n",
    "def U_lower_bound(b):\n",
    "    return b.evaporator.U >= 500\n",
    "\n",
    "@m.fs.ideal.Constraint(doc=\"Overall heat trasfer coefficient upper bound\")\n",
    "def U_upper_bound(b):\n",
    "    return b.evaporator.U <= 2500"
   ]
  },
  {
   "cell_type": "markdown",
   "id": "c4acb818",
   "metadata": {},
   "source": [
    "Add an upper bound to the temperature in the evaporator chamber to avoid damages to the equipment (e.g., extreme fouling). "
   ]
  },
  {
   "cell_type": "code",
   "execution_count": 11,
   "id": "98887a99",
   "metadata": {},
   "outputs": [],
   "source": [
    "@m.fs.ideal.Constraint(doc=\"Evaporator temperature upper bound\")\n",
    "def temperature_upper_bound(b):\n",
    "    return b.evaporator.outlet_brine.temperature[0] <= (73 + 273.15)"
   ]
  },
  {
   "cell_type": "markdown",
   "id": "c38f57c8",
   "metadata": {},
   "source": [
    "Solve the ideal evaporator model simulation example."
   ]
  },
  {
   "cell_type": "code",
   "execution_count": 12,
   "id": "b17c60c5",
   "metadata": {},
   "outputs": [
    {
     "name": "stdout",
     "output_type": "stream",
     "text": [
      "The ideal solver termination status is optimal\n"
     ]
    }
   ],
   "source": [
    "ideal_results = solver.solve(m, tee=False)\n",
    "print(\"The ideal solver termination status is {}\".format(ideal_results.solver.termination_condition))"
   ]
  },
  {
   "cell_type": "markdown",
   "id": "5fd10450",
   "metadata": {},
   "source": [
    "Display the evaporator results."
   ]
  },
  {
   "cell_type": "code",
   "execution_count": 13,
   "id": "12bc7535",
   "metadata": {},
   "outputs": [
    {
     "name": "stdout",
     "output_type": "stream",
     "text": [
      "Evaporator area (m2):  831.4456557855501\n",
      "Evaporator heat (MW):  16.910574337450765\n",
      "Water activity coefficient:  1\n"
     ]
    }
   ],
   "source": [
    "print('Evaporator area (m2): ', pyo.value(m.fs.ideal.evaporator.area))\n",
    "print('Evaporator heat (MW): ', pyo.value(m.fs.ideal.evaporator.heat_transfer)*1e-6)\n",
    "print('Water activity coefficient: ', value(m.fs.ideal.act_coeff))"
   ]
  },
  {
   "cell_type": "markdown",
   "id": "285a02eb",
   "metadata": {},
   "source": [
    "# Part II: Evaporator in Nonideal System"
   ]
  },
  {
   "cell_type": "markdown",
   "id": "4a395fc3",
   "metadata": {},
   "source": [
    "To separate the seawater into freshwater and a concentrated brine under nonideal thermodynamic conditions, the electrolyte NRTL method `ENRTL` from IDAES is used to calculate the activity coefficient $\\gamma_i$ of water, as the solvent."
   ]
  },
  {
   "cell_type": "markdown",
   "id": "04fa03ee",
   "metadata": {},
   "source": [
    "To start the construction of the nonideal evaporator model example, we start by importing the IDAES `ENRTL` model and other properties and models needed by it. Note that, since we use the same Pyomo and IDAES libraries that were used in the ideal evaporator example, there is no need to import them again here."
   ]
  },
  {
   "cell_type": "code",
   "execution_count": 14,
   "id": "cf4104c7",
   "metadata": {},
   "outputs": [],
   "source": [
    "from idaes.models.properties.modular_properties.eos.enrtl import ENRTL\n",
    "from idaes.core import AqueousPhase, Solvent, Apparent, Anion, Cation\n",
    "from idaes.models.properties.modular_properties.eos.enrtl_reference_states import (Symmetric, Unsymmetric)\n",
    "from idaes.models.properties.modular_properties.base.generic_property import StateIndex\n",
    "from idaes.models.properties.modular_properties.state_definitions import FpcTP, FTPx\n",
    "from idaes.models.properties.modular_properties.pure.electrolyte import relative_permittivity_constant"
   ]
  },
  {
   "cell_type": "markdown",
   "id": "891e8bfa",
   "metadata": {},
   "source": [
    "Declare a new block to save the nonideal evaporator unit, variables, and constraints."
   ]
  },
  {
   "cell_type": "code",
   "execution_count": 15,
   "id": "bd524174",
   "metadata": {},
   "outputs": [],
   "source": [
    "m.fs.nonideal = Block()\n",
    "\n",
    "m.fs.nonideal.evaporator = Evaporator(property_package_feed=m.fs.properties_feed,\n",
    "                                      property_package_vapor=m.fs.properties_vapor)"
   ]
  },
  {
   "cell_type": "markdown",
   "id": "3c101efe",
   "metadata": {},
   "source": [
    "Declare a dictionary of configuration arguments called `configuration` that includes parameters and equations needed by the eNRTL method. For this example, we assume a symmetric reference state for eNRTL and the nonrandomness factor $\\alpha$ and the binary interaction parameter $\\tau$ are obtained from reference [1]. "
   ]
  },
  {
   "cell_type": "code",
   "execution_count": 16,
   "id": "9dbfec79",
   "metadata": {},
   "outputs": [],
   "source": [
    "class ConstantVolMol:\n",
    "    def build_parameters(b):\n",
    "        b.vol_mol_pure = Param(initialize=18e-6, \n",
    "                               units=pyunits.m**3 / pyunits.mol, \n",
    "                               mutable=True)\n",
    "\n",
    "    def return_expression(b, cobj, T):\n",
    "        return cobj.vol_mol_pure\n",
    "\n",
    "# Configuration dictionary\n",
    "configuration = {\n",
    "    \"components\": {\n",
    "        \"H2O\": {\n",
    "            \"type\": Solvent,\n",
    "            \"vol_mol_liq_comp\": ConstantVolMol,\n",
    "            \"relative_permittivity_liq_comp\": relative_permittivity_constant,\n",
    "            \"parameter_data\": {\n",
    "                \"mw\": (18.01528e-3, pyunits.kg/pyunits.mol),\n",
    "                \"relative_permittivity_liq_comp\": 78.54\n",
    "            }\n",
    "        },\n",
    "        \"NaCl\": {\n",
    "            \"type\": Apparent,\n",
    "            \"dissociation_species\": {\"Na+\": 1, \"Cl-\": 1}\n",
    "        },\n",
    "        \"Na+\": {\n",
    "            \"type\": Cation,\n",
    "            \"charge\": +1,\n",
    "            \"parameter_data\": {\n",
    "                \"mw\": (22.990e-3, pyunits.kg/pyunits.mol)\n",
    "            }\n",
    "        },\n",
    "        \"Cl-\": {\n",
    "            \"type\": Anion,\n",
    "            \"charge\": -1,\n",
    "            \"parameter_data\": {\n",
    "                \"mw\": (35.453e-3, pyunits.kg/pyunits.mol)\n",
    "            }\n",
    "        }\n",
    "    },\n",
    "    \"phases\": {\n",
    "        \"Liq\": {\n",
    "            \"type\": AqueousPhase,\n",
    "            \"equation_of_state\": ENRTL,\n",
    "            \"equation_of_state_options\": {\n",
    "            \"reference_state\": Symmetric\n",
    "            }\n",
    "        }\n",
    "    },\n",
    "    \"base_units\": {\n",
    "        \"time\": pyunits.s,\n",
    "        \"length\": pyunits.m,\n",
    "        \"mass\": pyunits.kg,\n",
    "        \"amount\": pyunits.mol,\n",
    "        \"temperature\": pyunits.K\n",
    "    },\n",
    "    \"state_definition\": FpcTP,\n",
    "    \"state_components\": StateIndex.true,\n",
    "    \"pressure_ref\": 101325,\n",
    "    \"temperature_ref\": 298.15,\n",
    "    \"parameter_data\": {\n",
    "        \"Liq_tau\": {\n",
    "            # From reference [1]\n",
    "            (\"H2O\", \"Na+, Cl-\"): 8.885,\n",
    "            (\"Na+, Cl-\", \"H2O\"): -4.549\n",
    "        }\n",
    "    },\n",
    "    \"default_scaling_factors\": {\n",
    "        (\"flow_mol_phase_comp\", (\"Liq\", \"Na+\")): 1e1,\n",
    "        (\"flow_mol_phase_comp\", (\"Liq\", \"Cl-\")): 1e1,\n",
    "        (\"flow_mol_phase_comp\", (\"Liq\", \"H2O\")): 1e-1,\n",
    "        (\"mole_frac_comp\", \"Na+\"): 1e2,\n",
    "        (\"mole_frac_comp\", \"Cl-\"): 1e2,\n",
    "        (\"mole_frac_comp\", \"H2O\"): 1,\n",
    "        (\"mole_frac_phase_comp\", (\"Liq\", \"Na+\")): 1e2,\n",
    "        (\"mole_frac_phase_comp\", (\"Liq\", \"Cl-\")): 1e2,\n",
    "        (\"mole_frac_phase_comp\", (\"Liq\", \"H2O\")): 1,\n",
    "        (\"flow_mol_phase_comp_apparent\", (\"Liq\", \"NaCl\")): 1e1,\n",
    "        (\"flow_mol_phase_comp_apparent\", (\"Liq\", \"H2O\")): 1e-1,\n",
    "        (\"mole_frac_phase_comp_apparent\", (\"Liq\", \"NaCl\")): 1e3,\n",
    "        (\"mole_frac_phase_comp_apparent\", (\"Liq\", \"H2O\")): 1\n",
    "    }\n",
    "}"
   ]
  },
  {
   "cell_type": "markdown",
   "id": "5e0f766d",
   "metadata": {},
   "source": [
    "Create an instance of the `GenericParameterBlock` component and provide the eNRTL configuration dictionary."
   ]
  },
  {
   "cell_type": "code",
   "execution_count": 17,
   "id": "58f15635",
   "metadata": {},
   "outputs": [],
   "source": [
    "m.fs.nonideal.prop_enrtl = GenericParameterBlock(**configuration)"
   ]
  },
  {
   "cell_type": "markdown",
   "id": "d311532b",
   "metadata": {},
   "source": [
    "Declare a new block to include the generic properties needed by eNRTL and construct a `StateBlock` associated with it."
   ]
  },
  {
   "cell_type": "code",
   "execution_count": 18,
   "id": "d79fb26a",
   "metadata": {},
   "outputs": [],
   "source": [
    "m.fs.nonideal.enrtl_state = Block()\n",
    "m.fs.nonideal.enrtl_state.properties = m.fs.nonideal.prop_enrtl.build_state_block([0])\n",
    "\n",
    "# Rename eNRTL properties block\n",
    "sb_enrtl = m.fs.nonideal.enrtl_state.properties[0]"
   ]
  },
  {
   "cell_type": "markdown",
   "id": "5c7a4c9c",
   "metadata": {},
   "source": [
    "Declare a new function to populate the eNRTL `StateBlock`. Here, we choose to use the component flow, temperature, and pressure as the state variables or `FcTP`. "
   ]
  },
  {
   "cell_type": "code",
   "execution_count": 19,
   "id": "3d0f01b7",
   "metadata": {},
   "outputs": [],
   "source": [
    "def populate_enrtl_state_vars(blk, base=\"FpcTP\"):\n",
    "    blk.temperature = 298.15\n",
    "    blk.pressure = 101325\n",
    "\n",
    "    if base == \"FpcTP\":\n",
    "        feed_flow_mass = 10  # kg/s\n",
    "        feed_mass_frac_comp = {\"Na+\": 0.013768116,\n",
    "                               \"Cl-\": 0.021231884}\n",
    "        feed_mass_frac_comp[\"H2O\"] = (\n",
    "            1 - sum(x for x in feed_mass_frac_comp.values())\n",
    "        )\n",
    "        mw_comp = {\"H2O\": 18.015e-3,\n",
    "                   \"Na+\": 22.990e-3,\n",
    "                   \"Cl-\": 35.453e-3}\n",
    "\n",
    "        for j in feed_mass_frac_comp:\n",
    "            blk.flow_mol_phase_comp[\"Liq\", j] = (\n",
    "                feed_flow_mass * feed_mass_frac_comp[j] / mw_comp[j]\n",
    "            )\n",
    "            if j == \"H2O\":\n",
    "                blk.flow_mol_phase_comp[\"Liq\", j] /= 2\n",
    "\n",
    "populate_enrtl_state_vars(sb_enrtl, base=\"FpcTP\")"
   ]
  },
  {
   "cell_type": "markdown",
   "id": "f4dbbedb",
   "metadata": {},
   "source": [
    "Since the `ENRTL` IDAES method involves the calculation of properties based on individual solute ions and the seawater property package is in terms of total dissolved solids (TDS), we convert the flow from TDS to the respective flow of ions $\\rm Na^+$ and $\\rm Cl^-$ in the solute. To make that conversion, we declare the set of ions and their stoichiometric coefficient in the solute molecule and used them to calculate the mass ratio of each ion in the solute molecule. "
   ]
  },
  {
   "cell_type": "code",
   "execution_count": 20,
   "id": "dcf2819e",
   "metadata": {},
   "outputs": [],
   "source": [
    "m.fs.nonideal.set_ions = Set(initialize=[\"Na+\", \"Cl-\"])\n",
    "m.fs.nonideal.ion_coeff = {\"Na+\": 1, \"Cl-\": 1}\n",
    "m.fs.nonideal.enrtl_state.mol_mass_ion_molecule = sum(\n",
    "    m.fs.nonideal.ion_coeff[j] * sb_enrtl.mw_comp[j]\n",
    "    for j in m.fs.nonideal.set_ions\n",
    ")\n",
    "m.fs.nonideal.enrtl_state.mass_ratio_ion = {\n",
    "    \"Na+\": sb_enrtl.mw_comp[\"Na+\"]/m.fs.nonideal.enrtl_state.mol_mass_ion_molecule,\n",
    "    \"Cl-\": sb_enrtl.mw_comp[\"Cl-\"]/m.fs.nonideal.enrtl_state.mol_mass_ion_molecule\n",
    "}"
   ]
  },
  {
   "cell_type": "markdown",
   "id": "7c87b1de",
   "metadata": {},
   "source": [
    "Add constraints to link the temperature, pressure, and mass flowrate of the evaporator brine with the eNRTL properties block. Note that by using the mass ratio calculated above, the flow mass of TDS is converted into the respective ions in the solute $\\rm NaCl$."
   ]
  },
  {
   "cell_type": "code",
   "execution_count": 21,
   "id": "f83d2b52",
   "metadata": {},
   "outputs": [],
   "source": [
    "@m.fs.nonideal.enrtl_state.Constraint()\n",
    "def eq_enrtl_temperature(b):\n",
    "    return (\n",
    "        b.properties[0].temperature == m.fs.nonideal.evaporator.properties_brine[0].temperature\n",
    "    )\n",
    "\n",
    "@m.fs.nonideal.enrtl_state.Constraint()\n",
    "def eq_enrtl_pressure(b):\n",
    "    return (\n",
    "        b.properties[0].pressure == m.fs.nonideal.evaporator.properties_brine[0].pressure\n",
    "    )\n",
    "\n",
    "@m.fs.nonideal.enrtl_state.Constraint()\n",
    "def eq_enrtl_flow_mass_H2O(b):\n",
    "    return (\n",
    "        b.properties[0].flow_mass_phase_comp[\"Liq\", \"H2O\"] ==\n",
    "        m.fs.nonideal.evaporator.properties_brine[0].flow_mass_phase_comp[\"Liq\", \"H2O\"]\n",
    "    )\n",
    "\n",
    "@m.fs.nonideal.enrtl_state.Constraint(m.fs.nonideal.set_ions)\n",
    "def eq_enrtl_flow_mass_ion_comp(b, j):\n",
    "    flow_mass_in = b.properties[0].flow_mass_phase_comp[\"Liq\", j]\n",
    "    return flow_mass_in == (\n",
    "        (m.fs.nonideal.evaporator.properties_brine[0].flow_mass_phase_comp[\"Liq\", \"TDS\"]* \n",
    "         b.mass_ratio_ion[j])\n",
    "    )"
   ]
  },
  {
   "cell_type": "markdown",
   "id": "30f1a055",
   "metadata": {},
   "source": [
    "Deactivate the equality equilibrium constraint from the `Evaporator` unit and replace it with the new equilibrium equation that includes the activity coefficient of water. That is, \n",
    "\n",
    "$$ P=x_{\\rm H_2O} \\; P_{\\rm H_2O}^{\\rm sat} \\; \\; \\to \\; \\; P=x_{\\rm H_2O} \\; \\gamma_{\\rm H_2O} \\; P_{\\rm H_2O}^{\\rm sat}.$$\n",
    "\n",
    "The activity coefficient of water $\\gamma_{\\rm H_2O}$ is calculated using `ENRTL` method and taken from the eNRTL state block."
   ]
  },
  {
   "cell_type": "code",
   "execution_count": 22,
   "id": "fd952ddb",
   "metadata": {},
   "outputs": [],
   "source": [
    "m.fs.nonideal.evaporator.eq_brine_pressure.deactivate()\n",
    "@m.fs.nonideal.Constraint(doc=\"Vapor-liquid equilibrium equation\")\n",
    "def _eq_nonideal_phase_equilibrium(b):\n",
    "    return b.evaporator.properties_brine[0].pressure == (\n",
    "        b.enrtl_state.properties[0].act_coeff_phase_comp[\"Liq\", \"H2O\"]* #nonideal activity coefficient\n",
    "        b.evaporator.properties_brine[0].mole_frac_phase_comp[\"Liq\", \"H2O\"]*\n",
    "        b.evaporator.properties_vapor[0].pressure_sat\n",
    "    )"
   ]
  },
  {
   "cell_type": "markdown",
   "id": "727801ad",
   "metadata": {},
   "source": [
    "Add scaling factors for nonideal evaporator unit."
   ]
  },
  {
   "cell_type": "code",
   "execution_count": 23,
   "id": "fd11bdf2",
   "metadata": {},
   "outputs": [],
   "source": [
    "iscale.set_scaling_factor(m.fs.nonideal.evaporator.area, 1e-3)\n",
    "iscale.set_scaling_factor(m.fs.nonideal.evaporator.U, 1e-3)\n",
    "iscale.set_scaling_factor(m.fs.nonideal.evaporator.delta_temperature_in, 1e-1)\n",
    "iscale.set_scaling_factor(m.fs.nonideal.evaporator.delta_temperature_out, 1e-1)\n",
    "iscale.set_scaling_factor(m.fs.nonideal.evaporator.lmtd, 1e-1)\n",
    "iscale.set_scaling_factor(m.fs.nonideal.evaporator.heat_transfer, 1e-6)\n",
    "\n",
    "# Calculate scaling factors\n",
    "iscale.calculate_scaling_factors(m)"
   ]
  },
  {
   "cell_type": "markdown",
   "id": "ee80d9d7",
   "metadata": {},
   "source": [
    "Fix the inputs in the nonideal evaporator to solve a square problem (i.e., zero degrees of freedom) for initialization. We deactivate the `ideal` block since we are now solving for `nonideal`."
   ]
  },
  {
   "cell_type": "code",
   "execution_count": 24,
   "id": "88d99ad2",
   "metadata": {},
   "outputs": [],
   "source": [
    "m.fs.ideal.deactivate()\n",
    "\n",
    "m.fs.nonideal.evaporator.inlet_feed.flow_mass_phase_comp[0, \"Liq\", \"H2O\"].fix(9.65)\n",
    "m.fs.nonideal.evaporator.inlet_feed.flow_mass_phase_comp[0, \"Liq\", \"TDS\"].fix(0.35)\n",
    "m.fs.nonideal.evaporator.inlet_feed.temperature[0].fix(50.52 + 273.15)\n",
    "m.fs.nonideal.evaporator.inlet_feed.pressure[0].fix(101325)\n",
    "m.fs.nonideal.evaporator.outlet_brine.temperature[0].fix(60 + 273.15)\n",
    "m.fs.nonideal.evaporator.U.fix(1e3)\n",
    "m.fs.nonideal.evaporator.area.fix(400)\n",
    "m.fs.nonideal.evaporator.delta_temperature_out.fix(5)\n",
    "m.fs.nonideal.evaporator.delta_temperature_in.fix(30)"
   ]
  },
  {
   "cell_type": "markdown",
   "id": "b3d69713",
   "metadata": {},
   "source": [
    "Initialize the nonideal `Evaporator` unit. Use `assert` keyword to check that we have a square problem and solve the initialization"
   ]
  },
  {
   "cell_type": "code",
   "execution_count": 25,
   "id": "8db29bb6",
   "metadata": {},
   "outputs": [
    {
     "name": "stdout",
     "output_type": "stream",
     "text": [
      "optimal\n"
     ]
    }
   ],
   "source": [
    "m.fs.nonideal.evaporator.initialize(outlvl=idaeslog.WARNING)\n",
    "\n",
    "assert degrees_of_freedom(m) == 0\n",
    "nonideal_init_results = solver.solve(m, tee=False)\n",
    "\n",
    "print(nonideal_init_results.solver.termination_condition)"
   ]
  },
  {
   "cell_type": "markdown",
   "id": "891c9c33",
   "metadata": {},
   "source": [
    "To solve the nonideal simulation example, we unfix some of the inputs that were fixed during initialization and fix the pressure in the evaporator chamber."
   ]
  },
  {
   "cell_type": "code",
   "execution_count": 26,
   "id": "59de483e",
   "metadata": {},
   "outputs": [],
   "source": [
    "m.fs.nonideal.evaporator.area.unfix()\n",
    "m.fs.nonideal.evaporator.U.unfix()\n",
    "m.fs.nonideal.evaporator.outlet_brine.temperature[0].unfix()\n",
    "m.fs.nonideal.evaporator.outlet_brine.pressure[0].fix(30e3)"
   ]
  },
  {
   "cell_type": "markdown",
   "id": "f6324738",
   "metadata": {},
   "source": [
    "Include expression to calculate term $\\rm UA$ that represents the product of the evaporator overall heat transfer coefficient $\\rm U$ and its area $\\rm A$, add lower and upper bounds for $\\rm U$, and a constraint to bound the brine temperature to avoid damages to the equipment."
   ]
  },
  {
   "cell_type": "code",
   "execution_count": 27,
   "id": "994f6b2d",
   "metadata": {},
   "outputs": [],
   "source": [
    "@m.fs.nonideal.Expression(doc=\"Overall heat trasfer coefficient and area term\")\n",
    "def UA_term(b):\n",
    "    return b.evaporator.area*b.evaporator.U\n",
    "\n",
    "@m.fs.nonideal.Constraint(doc=\"Overall heat trasfer coefficient lower bound\")\n",
    "def U_lower_bound(b):\n",
    "    return b.evaporator.U >= 500\n",
    "\n",
    "@m.fs.nonideal.Constraint(doc=\"Overall heat trasfer coefficient upper bound\")\n",
    "def U_upper_bound(b):\n",
    "    return b.evaporator.U <= 2500\n",
    "\n",
    "@m.fs.nonideal.Constraint(doc=\"Evaporator chamber temperature upper bound\")\n",
    "def temperature_upper_bound(b):\n",
    "    return b.evaporator.outlet_brine.temperature[0] <= (73 + 273.15)"
   ]
  },
  {
   "cell_type": "markdown",
   "id": "2eaefe1c",
   "metadata": {},
   "source": [
    "Add an expression to calculate the molal concentration of solute $\\rm NaCl$ in the brine. This concentration is important since $\\tau$ and $\\alpha$ parameters in the eNRTL method have a molal concentration limit (for this case, the maximum molality is $6 \\; \\rm mol \\; NaCl/kg \\; H_2O$ from reference [1])."
   ]
  },
  {
   "cell_type": "code",
   "execution_count": 28,
   "id": "05f52654",
   "metadata": {},
   "outputs": [],
   "source": [
    "@m.fs.nonideal.Expression(\n",
    "    doc=\"Molal concentration of solute in solvent in mol of TDS/kg of H2O\")\n",
    "def molal_conc_solute(b):\n",
    "    return  (\n",
    "        (\n",
    "            b.evaporator.properties_brine[0].flow_mass_phase_comp[\"Liq\", \"TDS\"]/ \n",
    "            m.fs.properties_feed.mw_comp[\"TDS\"] # to convert it to mol/s\n",
    "        )/b.evaporator.properties_brine[0].flow_mass_phase_comp[\"Liq\", \"H2O\"]\n",
    "    )"
   ]
  },
  {
   "cell_type": "markdown",
   "id": "85128a48",
   "metadata": {},
   "source": [
    "Solve the nonideal evaporator simulation example."
   ]
  },
  {
   "cell_type": "code",
   "execution_count": 29,
   "id": "acfbedf8",
   "metadata": {},
   "outputs": [
    {
     "name": "stdout",
     "output_type": "stream",
     "text": [
      "The nonideal solver termination status is optimal\n"
     ]
    }
   ],
   "source": [
    "nonideal_results = solver.solve(m, tee=False)\n",
    "print(\"The nonideal solver termination status is {}\".format(nonideal_results.solver.termination_condition))"
   ]
  },
  {
   "cell_type": "markdown",
   "id": "ccdb7772",
   "metadata": {},
   "source": [
    "Display the results for nonideal evaporator and print the value of activity coefficient of water and the molal concentration of solute."
   ]
  },
  {
   "cell_type": "code",
   "execution_count": 30,
   "id": "44cf09e3",
   "metadata": {},
   "outputs": [
    {
     "name": "stdout",
     "output_type": "stream",
     "text": [
      "Evaporator area (m2):  920.7113682047884\n",
      "Evaporator heat (MW):  18.77080305415105\n",
      "Water activity coefficient:  0.9833937955900112\n",
      "Molal concentration of solute:  5.708382722587011\n"
     ]
    }
   ],
   "source": [
    "print('Evaporator area (m2): ', pyo.value(m.fs.nonideal.evaporator.area))\n",
    "print('Evaporator heat (MW): ', pyo.value(m.fs.nonideal.evaporator.heat_transfer)*1e-6)\n",
    "print('Water activity coefficient: ', value(m.fs.nonideal.enrtl_state.properties[0].act_coeff_phase_comp[\"Liq\", \"H2O\"]))\n",
    "print('Molal concentration of solute: ', value(m.fs.nonideal.molal_conc_solute))"
   ]
  }
 ],
 "metadata": {
  "kernelspec": {
   "display_name": "Python 3 (ipykernel)",
   "language": "python",
   "name": "python3"
  },
  "language_info": {
   "codemirror_mode": {
    "name": "ipython",
    "version": 3
   },
   "file_extension": ".py",
   "mimetype": "text/x-python",
   "name": "python",
   "nbconvert_exporter": "python",
   "pygments_lexer": "ipython3",
   "version": "3.9.2"
  }
 },
 "nbformat": 4,
 "nbformat_minor": 5
}
